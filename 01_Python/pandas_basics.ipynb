import seaborn as sns
import pandas as pd

# Load Titanic dataset
df = sns.load_dataset("titanic")

# Basic inspection
# Shape tells me rows x cols
print(df.shape)

# dtypes shows object = string
print(df.dtypes.head())
df.head()

# describe gives stats on numeric + object if include=all
df.describe(include="all").T

## Complete understanding
- A DataFrame is like a table: rows + columns + dtypes
- `.head()` and `.info()` help me quickly inspect structure
- `.describe()` summarizes numeric columns; with include="all" also categoricals
