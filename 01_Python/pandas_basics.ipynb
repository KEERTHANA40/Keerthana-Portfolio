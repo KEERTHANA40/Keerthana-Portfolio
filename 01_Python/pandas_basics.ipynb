import seaborn as sns
import pandas as pd

# Load Titanic dataset
df = sns.load_dataset("titanic")

# Basic inspection
# Shape tells me rows x cols
print(df.shape)

# dtypes shows object = string
print(df.dtypes.head())
df.head()

# describe gives stats on numeric + object if include=all
df.describe(include="all").T

## Complete understanding
- A DataFrame is like a table: rows + columns + dtypes
- `.head()` and `.info()` help me quickly inspect structure
- `.describe()` summarizes numeric columns; with include="all" also categoricals

# Pandas ops — Sept 19
Select / filter / derive columns: foundation for EDA and feature engineering.

import pandas as pd
import seaborn as sns

# Load Titanic sample dataset (no Kaggle auth required)
df = sns.load_dataset("titanic")

# Select columns
display(df[['survived','age','sex']].head())

# Filter rows (example)
display(df[df['age'] > 50][['sex','class','age','survived']].head())

# Create a derived column
df['family_size'] = df['sibsp'] + df['parch'] + 1
display(df[['sibsp','parch','family_size']].head())

# Missing values + dtypes
print("Missing values per column:\n", df.isnull().sum())
print("\nDtypes:\n", df.dtypes)


## Explain (fill in your words)
- Why I selected these columns:
- What filtering by age > 50 shows:
- Why I created `family_size` and how I'd use it in modeling:
